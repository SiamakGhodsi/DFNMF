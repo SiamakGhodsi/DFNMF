{
 "cells": [
  {
   "cell_type": "code",
   "execution_count": 2,
   "metadata": {
    "colab": {
     "base_uri": "https://localhost:8080/"
    },
    "executionInfo": {
     "elapsed": 23795,
     "status": "ok",
     "timestamp": 1689010667504,
     "user": {
      "displayName": "S.Amjad Seyedi",
      "userId": "01981410462248963080"
     },
     "user_tz": -210
    },
    "id": "7VjkbV69s6NT",
    "outputId": "78eb222d-2839-4ec7-9f7e-64cdfb243b33"
   },
   "outputs": [
    {
     "name": "stdout",
     "output_type": "stream",
     "text": [
      "Mounted at /content/drive\n"
     ]
    }
   ],
   "source": [
    "from google.colab import drive\n",
    "drive.mount('/content/drive')"
   ]
  },
  {
   "cell_type": "code",
   "execution_count": null,
   "metadata": {
    "colab": {
     "base_uri": "https://localhost:8080/"
    },
    "id": "t2jFlyoks-tG",
    "outputId": "d3793bd6-3e58-4749-c784-758779c71a32"
   },
   "outputs": [
    {
     "name": "stdout",
     "output_type": "stream",
     "text": [
      "/content/drive/My Drive/Colab Notebooks/FairNMF\n",
      "num GPUs 1\n",
      "(5576, 5576) (5576,)\n",
      "Dataset balance =  0.3302812295618051\n",
      "#class= 2  Lambda= 0\n",
      "#class= 2  Lambda= 0.0001\n",
      "#class= 2  Lambda= 0.00015\n",
      "#class= 2  Lambda= 0.00025\n",
      "#class= 2  Lambda= 0.00033\n",
      "#class= 2  Lambda= 0.0005\n"
     ]
    }
   ],
   "source": [
    "%cd /content/drive/My\\ Drive/Colab\\ Notebooks/FairNMF\n",
    "\n",
    "!python Run_LastFM.py"
   ]
  },
  {
   "cell_type": "code",
   "execution_count": null,
   "metadata": {
    "id": "tqiAL7XQtTq5"
   },
   "outputs": [],
   "source": []
  }
 ],
 "metadata": {
  "accelerator": "GPU",
  "colab": {
   "authorship_tag": "ABX9TyPUsA1wlBxz/Hi5Y1JilZfA",
   "gpuType": "T4",
   "provenance": []
  },
  "kernelspec": {
   "display_name": "Python 3 (ipykernel)",
   "language": "python",
   "name": "python3"
  },
  "language_info": {
   "codemirror_mode": {
    "name": "ipython",
    "version": 3
   },
   "file_extension": ".py",
   "mimetype": "text/x-python",
   "name": "python",
   "nbconvert_exporter": "python",
   "pygments_lexer": "ipython3",
   "version": "3.10.9"
  }
 },
 "nbformat": 4,
 "nbformat_minor": 1
}
